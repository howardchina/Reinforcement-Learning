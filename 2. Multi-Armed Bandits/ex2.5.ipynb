{
 "cells": [
  {
   "cell_type": "code",
   "execution_count": 3,
   "metadata": {},
   "outputs": [
    {
     "data": {
      "text/plain": [
       "<matplotlib.legend.Legend at 0x7fc0bb8a90d0>"
      ]
     },
     "execution_count": 3,
     "metadata": {},
     "output_type": "execute_result"
    },
    {
     "data": {
      "image/png": "[encoded data removed]",
      "text/plain": [
       "<Figure size 432x288 with 1 Axes>"
      ]
     },
     "metadata": {
      "needs_background": "light"
     },
     "output_type": "display_data"
    }
   ],
   "source": [
    "import numpy as np\n",
    "import matplotlib.pyplot as plt\n",
    "\n",
    "class TenArmTestBed():\n",
    "    def __init__(self, k=10):\n",
    "        self.q_star_a = np.zeros((k)) #np.random.normal(loc=0, scale=1, size=k)\n",
    "        self.k = k\n",
    "        \n",
    "    def _update(self):\n",
    "        self.q_star_a += np.random.normal(loc=0, scale=0.01, size=self.k)\n",
    "    \n",
    "    def _sample(self, a):\n",
    "        return np.random.normal(loc=self.q_star_a[a])\n",
    "    \n",
    "    def step(self, a, update=True):\n",
    "        if update:\n",
    "            self._update()\n",
    "        return self._sample(a)\n",
    "    \n",
    "    @property\n",
    "    def act_dim(self):\n",
    "        return self.k\n",
    "\n",
    "class Agent():\n",
    "    def __init__(self, epsilon=0.1, policy=None, act_dim=10):\n",
    "        self.epsilon = epsilon\n",
    "        self.Q_a = np.zeros(act_dim)\n",
    "        self.N_a = np.zeros(act_dim)\n",
    "        self.policy = policy(self)\n",
    "        self.act_dim = act_dim\n",
    "        \n",
    "    def act(self):\n",
    "        if np.random.rand() >= self.epsilon:\n",
    "            return np.argmax(self.Q_a)\n",
    "        else:\n",
    "            return np.random.randint(self.act_dim)\n",
    "        \n",
    "    def observe(self, act, reward):\n",
    "        self.policy.update(act, reward)\n",
    "\n",
    "class SampleAvgPolicy():\n",
    "    def __init__(self, agent):\n",
    "        self.agent = agent\n",
    "    \n",
    "    def update(self, A, R):\n",
    "        self.agent.N_a[A] += 1\n",
    "        self.agent.Q_a[A] += 1 / self.agent.N_a[A] * (R - self.agent.Q_a[A])\n",
    "        \n",
    "class ConstStepPolicy():\n",
    "    def __init__(self, agent, alpha=0.1):\n",
    "        self.agent = agent\n",
    "        self.alpha = alpha\n",
    "    \n",
    "    def update(self, A, R):\n",
    "        self.agent.N_a[A] += 1\n",
    "        self.agent.Q_a[A] += self.alpha * (R - self.agent.Q_a[A])\n",
    "        \n",
    "env = TenArmTestBed()\n",
    "epsilon = 0.1\n",
    "agent1 = Agent(epsilon=0.1, policy=SampleAvgPolicy, act_dim=env.act_dim)\n",
    "agent2 = Agent(epsilon=0.1, policy=ConstStepPolicy, act_dim=env.act_dim)\n",
    "env_update = True\n",
    "rewards1 = []\n",
    "rewards2 = []\n",
    "\n",
    "for t in range(1, 10001):\n",
    "    act1 = agent1.act()\n",
    "    act2 = agent2.act()\n",
    "    reward1 = env.step(act1, update=True)\n",
    "    reward2 = env.step(act2, update=False)\n",
    "    agent1.observe(act1, reward1)\n",
    "    agent2.observe(act2, reward2)\n",
    "    rewards1.append(reward1)\n",
    "    rewards2.append(reward2)\n",
    "    \n",
    "mean_rewards1 = [rewards1[0]]\n",
    "mean_rewards2 = [rewards2[0]]\n",
    "for i in range(1, len(rewards1)):\n",
    "    mean_rewards1.append(mean_rewards1[-1] + 1. / (i+1) * (rewards1[i] - mean_rewards1[-1]))\n",
    "    mean_rewards2.append(mean_rewards2[-1] + 1. / (i+1) * (rewards2[i] - mean_rewards2[-1]))\n",
    "plt.plot(mean_rewards1)\n",
    "plt.plot(mean_rewards2)\n",
    "plt.legend(['SampleAvgPolicy', 'ConstStepPolicy'])"
   ]
  },
  {
   "cell_type": "code",
   "execution_count": null,
   "metadata": {},
   "outputs": [],
   "source": []
  }
 ],
 "metadata": {
  "interpreter": {
   "hash": "7259c5b733b476a097ad37d1c28c38cdb80664a4fc1ba362610f6e56d70173e1"
  },
  "kernelspec": {
   "display_name": "Python 3.7.13 ('lab')",
   "language": "python",
   "name": "python3"
  },
  "language_info": {
   "codemirror_mode": {
    "name": "ipython",
    "version": 3
   },
   "file_extension": ".py",
   "mimetype": "text/x-python",
   "name": "python",
   "nbconvert_exporter": "python",
   "pygments_lexer": "ipython3",
   "version": "3.7.13"
  },
  "orig_nbformat": 4
 },
 "nbformat": 4,
 "nbformat_minor": 2
}
